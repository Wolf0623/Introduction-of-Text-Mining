{
 "cells": [
  {
   "attachments": {},
   "cell_type": "markdown",
   "metadata": {},
   "source": [
    "## Programming Assignment 1\n",
    "### 1.Write a program to convert a set of documents into TF-IDF vectors\n",
    "Text collection: 1095 news documents   \n",
    "PA1-data: 1.txt ~ 1095.txt\n",
    "\n",
    "Use TfidfVectorizer package. You need to lowercase everything and filter out English stopwords."
   ]
  },
  {
   "cell_type": "markdown",
   "metadata": {},
   "source": [
    "### 2. Save each document’s TF-IDF vector as a plain text file\n",
    "vec1.txt, vec2.txt, … vec1095.txt"
   ]
  },
  {
   "cell_type": "markdown",
   "metadata": {},
   "source": [
    "### 3. Load the TF-IDF vectors of documents 1 and 2, and calculate their cosine similarity.\n",
    "Please zip the vector files of documents 1 and 2, your code, and a report to TA."
   ]
  }
 ],
 "metadata": {
  "kernelspec": {
   "display_name": "Python 3",
   "language": "python",
   "name": "python3"
  },
  "language_info": {
   "codemirror_mode": {
    "name": "ipython",
    "version": 3
   },
   "file_extension": ".py",
   "mimetype": "text/x-python",
   "name": "python",
   "nbconvert_exporter": "python",
   "pygments_lexer": "ipython3",
   "version": "3.8.2"
  }
 },
 "nbformat": 4,
 "nbformat_minor": 4
}
